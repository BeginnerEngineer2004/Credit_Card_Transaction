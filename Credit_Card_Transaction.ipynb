{
 "cells": [
  {
   "cell_type": "code",
   "execution_count": 1,
   "id": "59d13280-6170-418b-b599-42e1ebfeaf77",
   "metadata": {},
   "outputs": [],
   "source": [
    "import pandas as pd\n",
    "import numpy as np\n",
    "import matplotlib.pyplot as plt\n",
    "import seaborn as sb"
   ]
  },
  {
   "cell_type": "code",
   "execution_count": 2,
   "id": "61a7a09e-33a1-4925-adff-0a16571b4a7c",
   "metadata": {},
   "outputs": [
    {
     "data": {
      "text/html": [
       "<div>\n",
       "<style scoped>\n",
       "    .dataframe tbody tr th:only-of-type {\n",
       "        vertical-align: middle;\n",
       "    }\n",
       "\n",
       "    .dataframe tbody tr th {\n",
       "        vertical-align: top;\n",
       "    }\n",
       "\n",
       "    .dataframe thead th {\n",
       "        text-align: right;\n",
       "    }\n",
       "</style>\n",
       "<table border=\"1\" class=\"dataframe\">\n",
       "  <thead>\n",
       "    <tr style=\"text-align: right;\">\n",
       "      <th></th>\n",
       "      <th>index</th>\n",
       "      <th>City</th>\n",
       "      <th>Date</th>\n",
       "      <th>Card Type</th>\n",
       "      <th>Exp Type</th>\n",
       "      <th>Gender</th>\n",
       "      <th>Amount</th>\n",
       "    </tr>\n",
       "  </thead>\n",
       "  <tbody>\n",
       "    <tr>\n",
       "      <th>0</th>\n",
       "      <td>0</td>\n",
       "      <td>Delhi, India</td>\n",
       "      <td>29-Oct-14</td>\n",
       "      <td>Gold</td>\n",
       "      <td>Bills</td>\n",
       "      <td>F</td>\n",
       "      <td>82475</td>\n",
       "    </tr>\n",
       "    <tr>\n",
       "      <th>1</th>\n",
       "      <td>1</td>\n",
       "      <td>Greater Mumbai, India</td>\n",
       "      <td>22-Aug-14</td>\n",
       "      <td>Platinum</td>\n",
       "      <td>Bills</td>\n",
       "      <td>F</td>\n",
       "      <td>32555</td>\n",
       "    </tr>\n",
       "    <tr>\n",
       "      <th>2</th>\n",
       "      <td>2</td>\n",
       "      <td>Bengaluru, India</td>\n",
       "      <td>27-Aug-14</td>\n",
       "      <td>Silver</td>\n",
       "      <td>Bills</td>\n",
       "      <td>F</td>\n",
       "      <td>101738</td>\n",
       "    </tr>\n",
       "    <tr>\n",
       "      <th>3</th>\n",
       "      <td>3</td>\n",
       "      <td>Greater Mumbai, India</td>\n",
       "      <td>12-Apr-14</td>\n",
       "      <td>Signature</td>\n",
       "      <td>Bills</td>\n",
       "      <td>F</td>\n",
       "      <td>123424</td>\n",
       "    </tr>\n",
       "    <tr>\n",
       "      <th>4</th>\n",
       "      <td>4</td>\n",
       "      <td>Bengaluru, India</td>\n",
       "      <td>5-May-15</td>\n",
       "      <td>Gold</td>\n",
       "      <td>Bills</td>\n",
       "      <td>F</td>\n",
       "      <td>171574</td>\n",
       "    </tr>\n",
       "    <tr>\n",
       "      <th>...</th>\n",
       "      <td>...</td>\n",
       "      <td>...</td>\n",
       "      <td>...</td>\n",
       "      <td>...</td>\n",
       "      <td>...</td>\n",
       "      <td>...</td>\n",
       "      <td>...</td>\n",
       "    </tr>\n",
       "    <tr>\n",
       "      <th>26047</th>\n",
       "      <td>26047</td>\n",
       "      <td>Kolkata, India</td>\n",
       "      <td>22-Jun-14</td>\n",
       "      <td>Silver</td>\n",
       "      <td>Travel</td>\n",
       "      <td>F</td>\n",
       "      <td>128191</td>\n",
       "    </tr>\n",
       "    <tr>\n",
       "      <th>26048</th>\n",
       "      <td>26048</td>\n",
       "      <td>Pune, India</td>\n",
       "      <td>3-Aug-14</td>\n",
       "      <td>Signature</td>\n",
       "      <td>Travel</td>\n",
       "      <td>M</td>\n",
       "      <td>246316</td>\n",
       "    </tr>\n",
       "    <tr>\n",
       "      <th>26049</th>\n",
       "      <td>26049</td>\n",
       "      <td>Hyderabad, India</td>\n",
       "      <td>16-Jan-15</td>\n",
       "      <td>Silver</td>\n",
       "      <td>Travel</td>\n",
       "      <td>M</td>\n",
       "      <td>265019</td>\n",
       "    </tr>\n",
       "    <tr>\n",
       "      <th>26050</th>\n",
       "      <td>26050</td>\n",
       "      <td>Kanpur, India</td>\n",
       "      <td>14-Sep-14</td>\n",
       "      <td>Silver</td>\n",
       "      <td>Travel</td>\n",
       "      <td>M</td>\n",
       "      <td>88174</td>\n",
       "    </tr>\n",
       "    <tr>\n",
       "      <th>26051</th>\n",
       "      <td>26051</td>\n",
       "      <td>Hyderabad, India</td>\n",
       "      <td>19-Oct-13</td>\n",
       "      <td>Signature</td>\n",
       "      <td>Bills</td>\n",
       "      <td>M</td>\n",
       "      <td>184410</td>\n",
       "    </tr>\n",
       "  </tbody>\n",
       "</table>\n",
       "<p>26052 rows × 7 columns</p>\n",
       "</div>"
      ],
      "text/plain": [
       "       index                   City       Date  Card Type Exp Type Gender  \\\n",
       "0          0           Delhi, India  29-Oct-14       Gold    Bills      F   \n",
       "1          1  Greater Mumbai, India  22-Aug-14   Platinum    Bills      F   \n",
       "2          2       Bengaluru, India  27-Aug-14     Silver    Bills      F   \n",
       "3          3  Greater Mumbai, India  12-Apr-14  Signature    Bills      F   \n",
       "4          4       Bengaluru, India   5-May-15       Gold    Bills      F   \n",
       "...      ...                    ...        ...        ...      ...    ...   \n",
       "26047  26047         Kolkata, India  22-Jun-14     Silver   Travel      F   \n",
       "26048  26048            Pune, India   3-Aug-14  Signature   Travel      M   \n",
       "26049  26049       Hyderabad, India  16-Jan-15     Silver   Travel      M   \n",
       "26050  26050          Kanpur, India  14-Sep-14     Silver   Travel      M   \n",
       "26051  26051       Hyderabad, India  19-Oct-13  Signature    Bills      M   \n",
       "\n",
       "       Amount  \n",
       "0       82475  \n",
       "1       32555  \n",
       "2      101738  \n",
       "3      123424  \n",
       "4      171574  \n",
       "...       ...  \n",
       "26047  128191  \n",
       "26048  246316  \n",
       "26049  265019  \n",
       "26050   88174  \n",
       "26051  184410  \n",
       "\n",
       "[26052 rows x 7 columns]"
      ]
     },
     "execution_count": 2,
     "metadata": {},
     "output_type": "execute_result"
    }
   ],
   "source": [
    "df=pd.read_csv(\"../DataSets/Credit card transactions - India - Simple.csv\")\n",
    "df"
   ]
  },
  {
   "cell_type": "code",
   "execution_count": 3,
   "id": "fbbe03d3-10b2-4954-a8c0-a3fb2b21e829",
   "metadata": {},
   "outputs": [],
   "source": [
    "df.Date=df.Date.astype('datetime64[ns]')"
   ]
  },
  {
   "cell_type": "code",
   "execution_count": 4,
   "id": "31e2ca42-0a9a-4673-a640-11a92ec0a8ad",
   "metadata": {},
   "outputs": [],
   "source": [
    "df['Year']=df['Date'].dt.year\n",
    "df['Month']=df['Date'].dt.month"
   ]
  },
  {
   "cell_type": "code",
   "execution_count": 5,
   "id": "de82eb58-5241-4efa-9f12-6fe3be2c355f",
   "metadata": {},
   "outputs": [
    {
     "data": {
      "text/html": [
       "<div>\n",
       "<style scoped>\n",
       "    .dataframe tbody tr th:only-of-type {\n",
       "        vertical-align: middle;\n",
       "    }\n",
       "\n",
       "    .dataframe tbody tr th {\n",
       "        vertical-align: top;\n",
       "    }\n",
       "\n",
       "    .dataframe thead th {\n",
       "        text-align: right;\n",
       "    }\n",
       "</style>\n",
       "<table border=\"1\" class=\"dataframe\">\n",
       "  <thead>\n",
       "    <tr style=\"text-align: right;\">\n",
       "      <th></th>\n",
       "      <th>index</th>\n",
       "      <th>City</th>\n",
       "      <th>Date</th>\n",
       "      <th>Card_Type</th>\n",
       "      <th>Exp_Type</th>\n",
       "      <th>Gender</th>\n",
       "      <th>Amount</th>\n",
       "      <th>Year</th>\n",
       "      <th>Month</th>\n",
       "    </tr>\n",
       "  </thead>\n",
       "  <tbody>\n",
       "    <tr>\n",
       "      <th>0</th>\n",
       "      <td>0</td>\n",
       "      <td>Delhi, India</td>\n",
       "      <td>2014-10-29</td>\n",
       "      <td>Gold</td>\n",
       "      <td>Bills</td>\n",
       "      <td>F</td>\n",
       "      <td>82475</td>\n",
       "      <td>2014</td>\n",
       "      <td>10</td>\n",
       "    </tr>\n",
       "    <tr>\n",
       "      <th>1</th>\n",
       "      <td>1</td>\n",
       "      <td>Greater Mumbai, India</td>\n",
       "      <td>2014-08-22</td>\n",
       "      <td>Platinum</td>\n",
       "      <td>Bills</td>\n",
       "      <td>F</td>\n",
       "      <td>32555</td>\n",
       "      <td>2014</td>\n",
       "      <td>8</td>\n",
       "    </tr>\n",
       "    <tr>\n",
       "      <th>2</th>\n",
       "      <td>2</td>\n",
       "      <td>Bengaluru, India</td>\n",
       "      <td>2014-08-27</td>\n",
       "      <td>Silver</td>\n",
       "      <td>Bills</td>\n",
       "      <td>F</td>\n",
       "      <td>101738</td>\n",
       "      <td>2014</td>\n",
       "      <td>8</td>\n",
       "    </tr>\n",
       "    <tr>\n",
       "      <th>3</th>\n",
       "      <td>3</td>\n",
       "      <td>Greater Mumbai, India</td>\n",
       "      <td>2014-04-12</td>\n",
       "      <td>Signature</td>\n",
       "      <td>Bills</td>\n",
       "      <td>F</td>\n",
       "      <td>123424</td>\n",
       "      <td>2014</td>\n",
       "      <td>4</td>\n",
       "    </tr>\n",
       "    <tr>\n",
       "      <th>4</th>\n",
       "      <td>4</td>\n",
       "      <td>Bengaluru, India</td>\n",
       "      <td>2015-05-05</td>\n",
       "      <td>Gold</td>\n",
       "      <td>Bills</td>\n",
       "      <td>F</td>\n",
       "      <td>171574</td>\n",
       "      <td>2015</td>\n",
       "      <td>5</td>\n",
       "    </tr>\n",
       "    <tr>\n",
       "      <th>...</th>\n",
       "      <td>...</td>\n",
       "      <td>...</td>\n",
       "      <td>...</td>\n",
       "      <td>...</td>\n",
       "      <td>...</td>\n",
       "      <td>...</td>\n",
       "      <td>...</td>\n",
       "      <td>...</td>\n",
       "      <td>...</td>\n",
       "    </tr>\n",
       "    <tr>\n",
       "      <th>26047</th>\n",
       "      <td>26047</td>\n",
       "      <td>Kolkata, India</td>\n",
       "      <td>2014-06-22</td>\n",
       "      <td>Silver</td>\n",
       "      <td>Travel</td>\n",
       "      <td>F</td>\n",
       "      <td>128191</td>\n",
       "      <td>2014</td>\n",
       "      <td>6</td>\n",
       "    </tr>\n",
       "    <tr>\n",
       "      <th>26048</th>\n",
       "      <td>26048</td>\n",
       "      <td>Pune, India</td>\n",
       "      <td>2014-08-03</td>\n",
       "      <td>Signature</td>\n",
       "      <td>Travel</td>\n",
       "      <td>M</td>\n",
       "      <td>246316</td>\n",
       "      <td>2014</td>\n",
       "      <td>8</td>\n",
       "    </tr>\n",
       "    <tr>\n",
       "      <th>26049</th>\n",
       "      <td>26049</td>\n",
       "      <td>Hyderabad, India</td>\n",
       "      <td>2015-01-16</td>\n",
       "      <td>Silver</td>\n",
       "      <td>Travel</td>\n",
       "      <td>M</td>\n",
       "      <td>265019</td>\n",
       "      <td>2015</td>\n",
       "      <td>1</td>\n",
       "    </tr>\n",
       "    <tr>\n",
       "      <th>26050</th>\n",
       "      <td>26050</td>\n",
       "      <td>Kanpur, India</td>\n",
       "      <td>2014-09-14</td>\n",
       "      <td>Silver</td>\n",
       "      <td>Travel</td>\n",
       "      <td>M</td>\n",
       "      <td>88174</td>\n",
       "      <td>2014</td>\n",
       "      <td>9</td>\n",
       "    </tr>\n",
       "    <tr>\n",
       "      <th>26051</th>\n",
       "      <td>26051</td>\n",
       "      <td>Hyderabad, India</td>\n",
       "      <td>2013-10-19</td>\n",
       "      <td>Signature</td>\n",
       "      <td>Bills</td>\n",
       "      <td>M</td>\n",
       "      <td>184410</td>\n",
       "      <td>2013</td>\n",
       "      <td>10</td>\n",
       "    </tr>\n",
       "  </tbody>\n",
       "</table>\n",
       "<p>26052 rows × 9 columns</p>\n",
       "</div>"
      ],
      "text/plain": [
       "       index                   City       Date  Card_Type Exp_Type Gender  \\\n",
       "0          0           Delhi, India 2014-10-29       Gold    Bills      F   \n",
       "1          1  Greater Mumbai, India 2014-08-22   Platinum    Bills      F   \n",
       "2          2       Bengaluru, India 2014-08-27     Silver    Bills      F   \n",
       "3          3  Greater Mumbai, India 2014-04-12  Signature    Bills      F   \n",
       "4          4       Bengaluru, India 2015-05-05       Gold    Bills      F   \n",
       "...      ...                    ...        ...        ...      ...    ...   \n",
       "26047  26047         Kolkata, India 2014-06-22     Silver   Travel      F   \n",
       "26048  26048            Pune, India 2014-08-03  Signature   Travel      M   \n",
       "26049  26049       Hyderabad, India 2015-01-16     Silver   Travel      M   \n",
       "26050  26050          Kanpur, India 2014-09-14     Silver   Travel      M   \n",
       "26051  26051       Hyderabad, India 2013-10-19  Signature    Bills      M   \n",
       "\n",
       "       Amount  Year  Month  \n",
       "0       82475  2014     10  \n",
       "1       32555  2014      8  \n",
       "2      101738  2014      8  \n",
       "3      123424  2014      4  \n",
       "4      171574  2015      5  \n",
       "...       ...   ...    ...  \n",
       "26047  128191  2014      6  \n",
       "26048  246316  2014      8  \n",
       "26049  265019  2015      1  \n",
       "26050   88174  2014      9  \n",
       "26051  184410  2013     10  \n",
       "\n",
       "[26052 rows x 9 columns]"
      ]
     },
     "execution_count": 5,
     "metadata": {},
     "output_type": "execute_result"
    }
   ],
   "source": [
    "df=df.rename(columns={'Card Type' : 'Card_Type'})\n",
    "df=df.rename(columns={'Exp Type' : 'Exp_Type'})\n",
    "df"
   ]
  },
  {
   "cell_type": "code",
   "execution_count": 6,
   "id": "e7a3bc27-16f9-43a2-bfd0-12cafb2370e5",
   "metadata": {},
   "outputs": [
    {
     "data": {
      "text/plain": [
       "index                 int64\n",
       "City                 object\n",
       "Date         datetime64[ns]\n",
       "Card_Type            object\n",
       "Exp_Type             object\n",
       "Gender               object\n",
       "Amount                int64\n",
       "Year                  int32\n",
       "Month                 int32\n",
       "dtype: object"
      ]
     },
     "execution_count": 6,
     "metadata": {},
     "output_type": "execute_result"
    }
   ],
   "source": [
    "df.dtypes"
   ]
  },
  {
   "cell_type": "markdown",
   "id": "27b2d391-5770-4fa4-ad34-7d06993f1b23",
   "metadata": {},
   "source": [
    "1.Distribution Of Transactions"
   ]
  },
  {
   "cell_type": "code",
   "execution_count": 7,
   "id": "b1aa899f-0a27-495f-954d-816095201aca",
   "metadata": {},
   "outputs": [
    {
     "data": {
      "text/plain": [
       "City\n",
       "Bengaluru, India          3552\n",
       "Greater Mumbai, India     3493\n",
       "Ahmedabad, India          3491\n",
       "Delhi, India              3482\n",
       "Hyderabad, India           784\n",
       "                          ... \n",
       "Rayagada, India              1\n",
       "Varanasi, India              1\n",
       "Hugli-Chinsurah, India       1\n",
       "Alirajpur, India             1\n",
       "Fazilka, India               1\n",
       "Name: count, Length: 986, dtype: int64"
      ]
     },
     "execution_count": 7,
     "metadata": {},
     "output_type": "execute_result"
    }
   ],
   "source": [
    "df['City'].value_counts()"
   ]
  },
  {
   "cell_type": "code",
   "execution_count": 8,
   "id": "82ede5fa-4cb4-4ddd-8f2c-ffcfefcc1da9",
   "metadata": {},
   "outputs": [
    {
     "data": {
      "text/plain": [
       "City\n",
       "Thodupuzha, India      296684.000000\n",
       "Nahan, India           264597.600000\n",
       "Alwar, India           263488.666667\n",
       "Manendragarh, India    257140.500000\n",
       "Vellore, India         256179.000000\n",
       "Kashipur, India        254690.750000\n",
       "Rewari, India          253201.800000\n",
       "Yadgir, India          249814.333333\n",
       "Kadapa, India          249608.428571\n",
       "Viramgam, India        246201.000000\n",
       "Name: Amount, dtype: float64"
      ]
     },
     "execution_count": 8,
     "metadata": {},
     "output_type": "execute_result"
    }
   ],
   "source": [
    "df.groupby('City')['Amount'].mean().nlargest(10)"
   ]
  },
  {
   "cell_type": "code",
   "execution_count": 9,
   "id": "eb426288-cf96-4aa5-b41a-341732017adf",
   "metadata": {},
   "outputs": [
    {
     "data": {
      "text/plain": [
       "City              Month\n",
       "Achalpur, India   2        178612.000000\n",
       "                  4        196518.333333\n",
       "                  5        135763.500000\n",
       "                  7        192579.000000\n",
       "                  10       173336.000000\n",
       "                               ...      \n",
       "Zirakpur, India   4        289172.000000\n",
       "                  12       175566.000000\n",
       "Zunheboto, India  3        298567.000000\n",
       "                  11        89271.000000\n",
       "                  12        78591.000000\n",
       "Name: Amount, Length: 4700, dtype: float64"
      ]
     },
     "execution_count": 9,
     "metadata": {},
     "output_type": "execute_result"
    }
   ],
   "source": [
    "df.groupby(['City','Month'])['Amount'].mean()"
   ]
  },
  {
   "cell_type": "markdown",
   "id": "494860fa-52c7-4ebf-8be0-4e482b481c93",
   "metadata": {},
   "source": [
    "2.Spending Trends Over Time"
   ]
  },
  {
   "cell_type": "code",
   "execution_count": 10,
   "id": "4ac58fb4-98a3-4e14-b186-772eef408db8",
   "metadata": {},
   "outputs": [
    {
     "data": {
      "text/plain": [
       "Date\n",
       "2013-10-04    9738755\n",
       "2013-10-05    8062632\n",
       "2013-10-06    6990055\n",
       "2013-10-07    7822992\n",
       "2013-10-08    5832533\n",
       "               ...   \n",
       "2015-05-22    6613863\n",
       "2015-05-23    6393798\n",
       "2015-05-24    7171912\n",
       "2015-05-25    5176669\n",
       "2015-05-26    7591837\n",
       "Name: Amount, Length: 600, dtype: int64"
      ]
     },
     "execution_count": 10,
     "metadata": {},
     "output_type": "execute_result"
    }
   ],
   "source": [
    "df.groupby('Date')['Amount'].sum()"
   ]
  },
  {
   "cell_type": "code",
   "execution_count": 11,
   "id": "1fa9ea8a-7247-4a00-bfc5-40798cd8cba7",
   "metadata": {},
   "outputs": [
    {
     "data": {
      "text/plain": [
       "Month\n",
       "1     431209556\n",
       "2     383512624\n",
       "3     410054446\n",
       "4     416394734\n",
       "5     375455609\n",
       "6     191321039\n",
       "7     197981416\n",
       "8     218453126\n",
       "9     209561433\n",
       "10    419846007\n",
       "11    404107968\n",
       "12    416935415\n",
       "Name: Amount, dtype: int64"
      ]
     },
     "execution_count": 11,
     "metadata": {},
     "output_type": "execute_result"
    }
   ],
   "source": [
    "df.groupby('Month')['Amount'].sum()"
   ]
  },
  {
   "cell_type": "code",
   "execution_count": 12,
   "id": "bc063736-9d22-4800-a891-211aee4449c7",
   "metadata": {},
   "outputs": [
    {
     "data": {
      "text/plain": [
       "Month\n",
       "1     158416.442322\n",
       "2     157629.520756\n",
       "3     156389.948894\n",
       "4     160956.603788\n",
       "5     154127.918309\n",
       "6     154415.689266\n",
       "7     151130.851908\n",
       "8     156822.057430\n",
       "9     158638.480696\n",
       "10    157540.715572\n",
       "11    154122.032037\n",
       "12    154306.223168\n",
       "Name: Amount, dtype: float64"
      ]
     },
     "execution_count": 12,
     "metadata": {},
     "output_type": "execute_result"
    }
   ],
   "source": [
    "df.groupby('Month')['Amount'].mean()"
   ]
  },
  {
   "cell_type": "code",
   "execution_count": 13,
   "id": "bec9376c-e336-4b49-9106-1f6210249d48",
   "metadata": {},
   "outputs": [
    {
     "data": {
      "text/plain": [
       "Year\n",
       "2013     613643884\n",
       "2014    2454714033\n",
       "2015    1006475456\n",
       "Name: Amount, dtype: int64"
      ]
     },
     "execution_count": 13,
     "metadata": {},
     "output_type": "execute_result"
    }
   ],
   "source": [
    "df.groupby('Year') ['Amount'].sum()"
   ]
  },
  {
   "cell_type": "code",
   "execution_count": 14,
   "id": "b2b0650a-c991-4fdf-856e-bc08d643df31",
   "metadata": {},
   "outputs": [
    {
     "data": {
      "text/plain": [
       "Year\n",
       "2013    156262.766488\n",
       "2014    155450.195238\n",
       "2015    158900.450900\n",
       "Name: Amount, dtype: float64"
      ]
     },
     "execution_count": 14,
     "metadata": {},
     "output_type": "execute_result"
    }
   ],
   "source": [
    "df.groupby('Year') ['Amount'].mean()"
   ]
  },
  {
   "cell_type": "code",
   "execution_count": 15,
   "id": "81cfe943-4294-4f74-b4f3-e2f2111a863e",
   "metadata": {},
   "outputs": [
    {
     "data": {
      "text/plain": [
       "15464   2013-10-04\n",
       "9427    2013-10-04\n",
       "9418    2013-10-04\n",
       "9244    2013-10-04\n",
       "1521    2013-10-04\n",
       "1612    2013-10-04\n",
       "15118   2013-10-04\n",
       "18278   2013-10-04\n",
       "4104    2013-10-04\n",
       "50      2013-10-04\n",
       "Name: Date, dtype: datetime64[ns]"
      ]
     },
     "execution_count": 15,
     "metadata": {},
     "output_type": "execute_result"
    }
   ],
   "source": [
    "df['Date'].sort_values().head(10)"
   ]
  },
  {
   "cell_type": "code",
   "execution_count": 16,
   "id": "bbbf6fb0-c98b-440b-8295-d83068127f72",
   "metadata": {},
   "outputs": [
    {
     "data": {
      "text/plain": [
       "13424   2015-05-26\n",
       "12574   2015-05-26\n",
       "21610   2015-05-26\n",
       "24604   2015-05-26\n",
       "21912   2015-05-26\n",
       "1491    2015-05-26\n",
       "12432   2015-05-26\n",
       "22448   2015-05-26\n",
       "1077    2015-05-26\n",
       "11566   2015-05-26\n",
       "Name: Date, dtype: datetime64[ns]"
      ]
     },
     "execution_count": 16,
     "metadata": {},
     "output_type": "execute_result"
    }
   ],
   "source": [
    "df['Date'].sort_values(ascending=False).head(10)"
   ]
  },
  {
   "cell_type": "code",
   "execution_count": 17,
   "id": "6a39ca39-943d-45b4-b1dd-92b7f375662f",
   "metadata": {},
   "outputs": [
    {
     "data": {
      "text/plain": [
       "Timestamp('2014-07-30 11:34:44.385075968')"
      ]
     },
     "execution_count": 17,
     "metadata": {},
     "output_type": "execute_result"
    }
   ],
   "source": [
    "df.Date.mean()"
   ]
  },
  {
   "cell_type": "code",
   "execution_count": 18,
   "id": "85e572e4-9c39-4561-a15d-8bb3e80adcf8",
   "metadata": {},
   "outputs": [
    {
     "data": {
      "text/plain": [
       "6.354022723783203"
      ]
     },
     "execution_count": 18,
     "metadata": {},
     "output_type": "execute_result"
    }
   ],
   "source": [
    "df.Month.mean()"
   ]
  },
  {
   "cell_type": "markdown",
   "id": "58ce8dcd-5e0c-4730-9090-8aad8b12c5ef",
   "metadata": {},
   "source": [
    "3.Card Type And Expenditure Analysis"
   ]
  },
  {
   "cell_type": "code",
   "execution_count": 19,
   "id": "1ea537c4-5cfd-4a04-aed5-81bb333ddbc1",
   "metadata": {},
   "outputs": [
    {
     "data": {
      "text/plain": [
       "Card_Type\n",
       "Silver       6840\n",
       "Signature    6447\n",
       "Platinum     6398\n",
       "Gold         6367\n",
       "Name: count, dtype: int64"
      ]
     },
     "execution_count": 19,
     "metadata": {},
     "output_type": "execute_result"
    }
   ],
   "source": [
    "df['Card_Type'].value_counts()"
   ]
  },
  {
   "cell_type": "code",
   "execution_count": 20,
   "id": "34639c25-ff03-4ae7-ae09-91c9ab0c5f5b",
   "metadata": {},
   "outputs": [
    {
     "data": {
      "text/plain": [
       "13026    Silver\n",
       "6278     Silver\n",
       "17369    Silver\n",
       "17372    Silver\n",
       "6320     Silver\n",
       "6319     Silver\n",
       "17374    Silver\n",
       "17377    Silver\n",
       "6316     Silver\n",
       "17378    Silver\n",
       "Name: Card_Type, dtype: object"
      ]
     },
     "execution_count": 20,
     "metadata": {},
     "output_type": "execute_result"
    }
   ],
   "source": [
    "df['Card_Type'].sort_values(ascending=False).head(10)"
   ]
  },
  {
   "cell_type": "code",
   "execution_count": 21,
   "id": "5e73d028-fd9d-4183-8eea-b092f4c2ce3c",
   "metadata": {},
   "outputs": [
    {
     "data": {
      "text/html": [
       "<div>\n",
       "<style scoped>\n",
       "    .dataframe tbody tr th:only-of-type {\n",
       "        vertical-align: middle;\n",
       "    }\n",
       "\n",
       "    .dataframe tbody tr th {\n",
       "        vertical-align: top;\n",
       "    }\n",
       "\n",
       "    .dataframe thead th {\n",
       "        text-align: right;\n",
       "    }\n",
       "</style>\n",
       "<table border=\"1\" class=\"dataframe\">\n",
       "  <thead>\n",
       "    <tr style=\"text-align: right;\">\n",
       "      <th></th>\n",
       "      <th>count</th>\n",
       "      <th>mean</th>\n",
       "      <th>std</th>\n",
       "      <th>min</th>\n",
       "      <th>25%</th>\n",
       "      <th>50%</th>\n",
       "      <th>75%</th>\n",
       "      <th>max</th>\n",
       "    </tr>\n",
       "    <tr>\n",
       "      <th>Card_Type</th>\n",
       "      <th></th>\n",
       "      <th></th>\n",
       "      <th></th>\n",
       "      <th></th>\n",
       "      <th></th>\n",
       "      <th></th>\n",
       "      <th></th>\n",
       "      <th></th>\n",
       "    </tr>\n",
       "  </thead>\n",
       "  <tbody>\n",
       "    <tr>\n",
       "      <th>Gold</th>\n",
       "      <td>6367.0</td>\n",
       "      <td>154631.621800</td>\n",
       "      <td>105800.484508</td>\n",
       "      <td>1038.0</td>\n",
       "      <td>74389.50</td>\n",
       "      <td>150431.0</td>\n",
       "      <td>224538.50</td>\n",
       "      <td>996754.0</td>\n",
       "    </tr>\n",
       "    <tr>\n",
       "      <th>Platinum</th>\n",
       "      <td>6398.0</td>\n",
       "      <td>157492.813223</td>\n",
       "      <td>102051.710950</td>\n",
       "      <td>1005.0</td>\n",
       "      <td>79394.75</td>\n",
       "      <td>154215.0</td>\n",
       "      <td>227670.25</td>\n",
       "      <td>998077.0</td>\n",
       "    </tr>\n",
       "    <tr>\n",
       "      <th>Signature</th>\n",
       "      <td>6447.0</td>\n",
       "      <td>157133.721886</td>\n",
       "      <td>104385.788773</td>\n",
       "      <td>1024.0</td>\n",
       "      <td>76500.00</td>\n",
       "      <td>153972.0</td>\n",
       "      <td>230244.50</td>\n",
       "      <td>994537.0</td>\n",
       "    </tr>\n",
       "    <tr>\n",
       "      <th>Silver</th>\n",
       "      <td>6840.0</td>\n",
       "      <td>156376.273830</td>\n",
       "      <td>100127.272753</td>\n",
       "      <td>1018.0</td>\n",
       "      <td>78180.00</td>\n",
       "      <td>154028.5</td>\n",
       "      <td>230039.75</td>\n",
       "      <td>955468.0</td>\n",
       "    </tr>\n",
       "  </tbody>\n",
       "</table>\n",
       "</div>"
      ],
      "text/plain": [
       "            count           mean            std     min       25%       50%  \\\n",
       "Card_Type                                                                     \n",
       "Gold       6367.0  154631.621800  105800.484508  1038.0  74389.50  150431.0   \n",
       "Platinum   6398.0  157492.813223  102051.710950  1005.0  79394.75  154215.0   \n",
       "Signature  6447.0  157133.721886  104385.788773  1024.0  76500.00  153972.0   \n",
       "Silver     6840.0  156376.273830  100127.272753  1018.0  78180.00  154028.5   \n",
       "\n",
       "                 75%       max  \n",
       "Card_Type                       \n",
       "Gold       224538.50  996754.0  \n",
       "Platinum   227670.25  998077.0  \n",
       "Signature  230244.50  994537.0  \n",
       "Silver     230039.75  955468.0  "
      ]
     },
     "execution_count": 21,
     "metadata": {},
     "output_type": "execute_result"
    }
   ],
   "source": [
    "df.groupby('Card_Type') ['Amount'].describe()"
   ]
  },
  {
   "cell_type": "code",
   "execution_count": 22,
   "id": "aa286b70-c4f4-4c1f-91a4-e4a538a07126",
   "metadata": {},
   "outputs": [
    {
     "data": {
      "text/plain": [
       "Exp_Type\n",
       "Food             5463\n",
       "Fuel             5257\n",
       "Bills            5078\n",
       "Entertainment    4762\n",
       "Grocery          4754\n",
       "Travel            738\n",
       "Name: count, dtype: int64"
      ]
     },
     "execution_count": 22,
     "metadata": {},
     "output_type": "execute_result"
    }
   ],
   "source": [
    "df['Exp_Type'].value_counts()"
   ]
  },
  {
   "cell_type": "code",
   "execution_count": 23,
   "id": "fc8ff642-3bfd-4c91-a38e-fa8002266b47",
   "metadata": {},
   "outputs": [
    {
     "data": {
      "text/plain": [
       "25486    Travel\n",
       "25399    Travel\n",
       "25403    Travel\n",
       "25402    Travel\n",
       "25401    Travel\n",
       "25479    Travel\n",
       "25489    Travel\n",
       "25490    Travel\n",
       "25478    Travel\n",
       "25477    Travel\n",
       "Name: Exp_Type, dtype: object"
      ]
     },
     "execution_count": 23,
     "metadata": {},
     "output_type": "execute_result"
    }
   ],
   "source": [
    "df['Exp_Type'].sort_values(ascending=False).head(10)"
   ]
  },
  {
   "cell_type": "code",
   "execution_count": 24,
   "id": "5af8c9f0-cced-46a3-be43-1f5c0b4555cb",
   "metadata": {},
   "outputs": [
    {
     "data": {
      "text/plain": [
       "array(['Gold', 'Platinum', 'Silver', 'Signature'], dtype=object)"
      ]
     },
     "execution_count": 24,
     "metadata": {},
     "output_type": "execute_result"
    }
   ],
   "source": [
    "df.Card_Type.unique()"
   ]
  },
  {
   "cell_type": "code",
   "execution_count": 25,
   "id": "7c86123f-9a2d-4b83-b7cb-5c5e22666931",
   "metadata": {},
   "outputs": [
    {
     "data": {
      "text/html": [
       "<div>\n",
       "<style scoped>\n",
       "    .dataframe tbody tr th:only-of-type {\n",
       "        vertical-align: middle;\n",
       "    }\n",
       "\n",
       "    .dataframe tbody tr th {\n",
       "        vertical-align: top;\n",
       "    }\n",
       "\n",
       "    .dataframe thead th {\n",
       "        text-align: right;\n",
       "    }\n",
       "</style>\n",
       "<table border=\"1\" class=\"dataframe\">\n",
       "  <thead>\n",
       "    <tr style=\"text-align: right;\">\n",
       "      <th></th>\n",
       "      <th>index</th>\n",
       "      <th>Date</th>\n",
       "      <th>Amount</th>\n",
       "      <th>Year</th>\n",
       "      <th>Month</th>\n",
       "    </tr>\n",
       "  </thead>\n",
       "  <tbody>\n",
       "    <tr>\n",
       "      <th>count</th>\n",
       "      <td>26052.000000</td>\n",
       "      <td>26052</td>\n",
       "      <td>26052.000000</td>\n",
       "      <td>26052.000000</td>\n",
       "      <td>26052.000000</td>\n",
       "    </tr>\n",
       "    <tr>\n",
       "      <th>mean</th>\n",
       "      <td>13025.500000</td>\n",
       "      <td>2014-07-30 11:34:44.385075968</td>\n",
       "      <td>156411.537425</td>\n",
       "      <td>2014.092392</td>\n",
       "      <td>6.354023</td>\n",
       "    </tr>\n",
       "    <tr>\n",
       "      <th>min</th>\n",
       "      <td>0.000000</td>\n",
       "      <td>2013-10-04 00:00:00</td>\n",
       "      <td>1005.000000</td>\n",
       "      <td>2013.000000</td>\n",
       "      <td>1.000000</td>\n",
       "    </tr>\n",
       "    <tr>\n",
       "      <th>25%</th>\n",
       "      <td>6512.750000</td>\n",
       "      <td>2014-03-02 00:00:00</td>\n",
       "      <td>77120.250000</td>\n",
       "      <td>2014.000000</td>\n",
       "      <td>3.000000</td>\n",
       "    </tr>\n",
       "    <tr>\n",
       "      <th>50%</th>\n",
       "      <td>13025.500000</td>\n",
       "      <td>2014-08-02 00:00:00</td>\n",
       "      <td>153106.500000</td>\n",
       "      <td>2014.000000</td>\n",
       "      <td>6.000000</td>\n",
       "    </tr>\n",
       "    <tr>\n",
       "      <th>75%</th>\n",
       "      <td>19538.250000</td>\n",
       "      <td>2014-12-28 00:00:00</td>\n",
       "      <td>228050.000000</td>\n",
       "      <td>2014.000000</td>\n",
       "      <td>10.000000</td>\n",
       "    </tr>\n",
       "    <tr>\n",
       "      <th>max</th>\n",
       "      <td>26051.000000</td>\n",
       "      <td>2015-05-26 00:00:00</td>\n",
       "      <td>998077.000000</td>\n",
       "      <td>2015.000000</td>\n",
       "      <td>12.000000</td>\n",
       "    </tr>\n",
       "    <tr>\n",
       "      <th>std</th>\n",
       "      <td>7520.708943</td>\n",
       "      <td>NaN</td>\n",
       "      <td>103063.254287</td>\n",
       "      <td>0.620761</td>\n",
       "      <td>3.739676</td>\n",
       "    </tr>\n",
       "  </tbody>\n",
       "</table>\n",
       "</div>"
      ],
      "text/plain": [
       "              index                           Date         Amount  \\\n",
       "count  26052.000000                          26052   26052.000000   \n",
       "mean   13025.500000  2014-07-30 11:34:44.385075968  156411.537425   \n",
       "min        0.000000            2013-10-04 00:00:00    1005.000000   \n",
       "25%     6512.750000            2014-03-02 00:00:00   77120.250000   \n",
       "50%    13025.500000            2014-08-02 00:00:00  153106.500000   \n",
       "75%    19538.250000            2014-12-28 00:00:00  228050.000000   \n",
       "max    26051.000000            2015-05-26 00:00:00  998077.000000   \n",
       "std     7520.708943                            NaN  103063.254287   \n",
       "\n",
       "               Year         Month  \n",
       "count  26052.000000  26052.000000  \n",
       "mean    2014.092392      6.354023  \n",
       "min     2013.000000      1.000000  \n",
       "25%     2014.000000      3.000000  \n",
       "50%     2014.000000      6.000000  \n",
       "75%     2014.000000     10.000000  \n",
       "max     2015.000000     12.000000  \n",
       "std        0.620761      3.739676  "
      ]
     },
     "execution_count": 25,
     "metadata": {},
     "output_type": "execute_result"
    }
   ],
   "source": [
    "df.describe()"
   ]
  },
  {
   "cell_type": "code",
   "execution_count": 26,
   "id": "92d19d87-3d38-4a20-9203-7a9bba462ec7",
   "metadata": {},
   "outputs": [
    {
     "data": {
      "text/html": [
       "<div>\n",
       "<style scoped>\n",
       "    .dataframe tbody tr th:only-of-type {\n",
       "        vertical-align: middle;\n",
       "    }\n",
       "\n",
       "    .dataframe tbody tr th {\n",
       "        vertical-align: top;\n",
       "    }\n",
       "\n",
       "    .dataframe thead th {\n",
       "        text-align: right;\n",
       "    }\n",
       "</style>\n",
       "<table border=\"1\" class=\"dataframe\">\n",
       "  <thead>\n",
       "    <tr style=\"text-align: right;\">\n",
       "      <th></th>\n",
       "      <th>count</th>\n",
       "      <th>unique</th>\n",
       "      <th>top</th>\n",
       "      <th>freq</th>\n",
       "    </tr>\n",
       "    <tr>\n",
       "      <th>Card_Type</th>\n",
       "      <th></th>\n",
       "      <th></th>\n",
       "      <th></th>\n",
       "      <th></th>\n",
       "    </tr>\n",
       "  </thead>\n",
       "  <tbody>\n",
       "    <tr>\n",
       "      <th>Gold</th>\n",
       "      <td>6367</td>\n",
       "      <td>6</td>\n",
       "      <td>Food</td>\n",
       "      <td>1322</td>\n",
       "    </tr>\n",
       "    <tr>\n",
       "      <th>Platinum</th>\n",
       "      <td>6398</td>\n",
       "      <td>6</td>\n",
       "      <td>Food</td>\n",
       "      <td>1371</td>\n",
       "    </tr>\n",
       "    <tr>\n",
       "      <th>Signature</th>\n",
       "      <td>6447</td>\n",
       "      <td>6</td>\n",
       "      <td>Food</td>\n",
       "      <td>1329</td>\n",
       "    </tr>\n",
       "    <tr>\n",
       "      <th>Silver</th>\n",
       "      <td>6840</td>\n",
       "      <td>6</td>\n",
       "      <td>Food</td>\n",
       "      <td>1441</td>\n",
       "    </tr>\n",
       "  </tbody>\n",
       "</table>\n",
       "</div>"
      ],
      "text/plain": [
       "          count unique   top  freq\n",
       "Card_Type                         \n",
       "Gold       6367      6  Food  1322\n",
       "Platinum   6398      6  Food  1371\n",
       "Signature  6447      6  Food  1329\n",
       "Silver     6840      6  Food  1441"
      ]
     },
     "execution_count": 26,
     "metadata": {},
     "output_type": "execute_result"
    }
   ],
   "source": [
    "df.groupby('Card_Type')['Exp_Type'].describe()"
   ]
  },
  {
   "cell_type": "code",
   "execution_count": 27,
   "id": "e1d2bcc8-98a7-47d4-9af3-15416a739b16",
   "metadata": {},
   "outputs": [
    {
     "data": {
      "image/png": "[encoded data removed]",
      "text/plain": [
       "<Figure size 640x480 with 1 Axes>"
      ]
     },
     "metadata": {},
     "output_type": "display_data"
    }
   ],
   "source": [
    "sb.barplot(x=df.Exp_Type,y=df.Amount)\n",
    "plt.xticks(rotation=90)\n",
    "plt.show()"
   ]
  },
  {
   "cell_type": "code",
   "execution_count": 28,
   "id": "1442a07c-263d-49c2-813c-0e6e86746493",
   "metadata": {},
   "outputs": [
    {
     "data": {
      "text/html": [
       "<div>\n",
       "<style scoped>\n",
       "    .dataframe tbody tr th:only-of-type {\n",
       "        vertical-align: middle;\n",
       "    }\n",
       "\n",
       "    .dataframe tbody tr th {\n",
       "        vertical-align: top;\n",
       "    }\n",
       "\n",
       "    .dataframe thead th {\n",
       "        text-align: right;\n",
       "    }\n",
       "</style>\n",
       "<table border=\"1\" class=\"dataframe\">\n",
       "  <thead>\n",
       "    <tr style=\"text-align: right;\">\n",
       "      <th></th>\n",
       "      <th>Exp_Type</th>\n",
       "      <th>Card_Type</th>\n",
       "      <th>Amount</th>\n",
       "    </tr>\n",
       "  </thead>\n",
       "  <tbody>\n",
       "    <tr>\n",
       "      <th>0</th>\n",
       "      <td>Bills</td>\n",
       "      <td>Gold</td>\n",
       "      <td>179565.245223</td>\n",
       "    </tr>\n",
       "    <tr>\n",
       "      <th>1</th>\n",
       "      <td>Bills</td>\n",
       "      <td>Platinum</td>\n",
       "      <td>180657.117168</td>\n",
       "    </tr>\n",
       "    <tr>\n",
       "      <th>2</th>\n",
       "      <td>Bills</td>\n",
       "      <td>Signature</td>\n",
       "      <td>179599.262907</td>\n",
       "    </tr>\n",
       "    <tr>\n",
       "      <th>3</th>\n",
       "      <td>Bills</td>\n",
       "      <td>Silver</td>\n",
       "      <td>174959.112444</td>\n",
       "    </tr>\n",
       "    <tr>\n",
       "      <th>4</th>\n",
       "      <td>Entertainment</td>\n",
       "      <td>Gold</td>\n",
       "      <td>151765.934383</td>\n",
       "    </tr>\n",
       "    <tr>\n",
       "      <th>5</th>\n",
       "      <td>Entertainment</td>\n",
       "      <td>Platinum</td>\n",
       "      <td>156367.934288</td>\n",
       "    </tr>\n",
       "    <tr>\n",
       "      <th>6</th>\n",
       "      <td>Entertainment</td>\n",
       "      <td>Signature</td>\n",
       "      <td>152691.436752</td>\n",
       "    </tr>\n",
       "    <tr>\n",
       "      <th>7</th>\n",
       "      <td>Entertainment</td>\n",
       "      <td>Silver</td>\n",
       "      <td>149533.561014</td>\n",
       "    </tr>\n",
       "    <tr>\n",
       "      <th>8</th>\n",
       "      <td>Food</td>\n",
       "      <td>Gold</td>\n",
       "      <td>146563.127080</td>\n",
       "    </tr>\n",
       "    <tr>\n",
       "      <th>9</th>\n",
       "      <td>Food</td>\n",
       "      <td>Platinum</td>\n",
       "      <td>153405.404814</td>\n",
       "    </tr>\n",
       "    <tr>\n",
       "      <th>10</th>\n",
       "      <td>Food</td>\n",
       "      <td>Signature</td>\n",
       "      <td>155190.228743</td>\n",
       "    </tr>\n",
       "    <tr>\n",
       "      <th>11</th>\n",
       "      <td>Food</td>\n",
       "      <td>Silver</td>\n",
       "      <td>148786.211659</td>\n",
       "    </tr>\n",
       "    <tr>\n",
       "      <th>12</th>\n",
       "      <td>Fuel</td>\n",
       "      <td>Gold</td>\n",
       "      <td>147790.054753</td>\n",
       "    </tr>\n",
       "    <tr>\n",
       "      <th>13</th>\n",
       "      <td>Fuel</td>\n",
       "      <td>Platinum</td>\n",
       "      <td>149054.808756</td>\n",
       "    </tr>\n",
       "    <tr>\n",
       "      <th>14</th>\n",
       "      <td>Fuel</td>\n",
       "      <td>Signature</td>\n",
       "      <td>146032.260498</td>\n",
       "    </tr>\n",
       "    <tr>\n",
       "      <th>15</th>\n",
       "      <td>Fuel</td>\n",
       "      <td>Silver</td>\n",
       "      <td>157256.315362</td>\n",
       "    </tr>\n",
       "    <tr>\n",
       "      <th>16</th>\n",
       "      <td>Grocery</td>\n",
       "      <td>Gold</td>\n",
       "      <td>148567.339589</td>\n",
       "    </tr>\n",
       "    <tr>\n",
       "      <th>17</th>\n",
       "      <td>Grocery</td>\n",
       "      <td>Platinum</td>\n",
       "      <td>151646.743363</td>\n",
       "    </tr>\n",
       "    <tr>\n",
       "      <th>18</th>\n",
       "      <td>Grocery</td>\n",
       "      <td>Signature</td>\n",
       "      <td>152559.080882</td>\n",
       "    </tr>\n",
       "    <tr>\n",
       "      <th>19</th>\n",
       "      <td>Grocery</td>\n",
       "      <td>Silver</td>\n",
       "      <td>151341.088993</td>\n",
       "    </tr>\n",
       "    <tr>\n",
       "      <th>20</th>\n",
       "      <td>Travel</td>\n",
       "      <td>Gold</td>\n",
       "      <td>147122.150943</td>\n",
       "    </tr>\n",
       "    <tr>\n",
       "      <th>21</th>\n",
       "      <td>Travel</td>\n",
       "      <td>Platinum</td>\n",
       "      <td>135495.491620</td>\n",
       "    </tr>\n",
       "    <tr>\n",
       "      <th>22</th>\n",
       "      <td>Travel</td>\n",
       "      <td>Signature</td>\n",
       "      <td>153625.899441</td>\n",
       "    </tr>\n",
       "    <tr>\n",
       "      <th>23</th>\n",
       "      <td>Travel</td>\n",
       "      <td>Silver</td>\n",
       "      <td>156624.916667</td>\n",
       "    </tr>\n",
       "  </tbody>\n",
       "</table>\n",
       "</div>"
      ],
      "text/plain": [
       "         Exp_Type  Card_Type         Amount\n",
       "0           Bills       Gold  179565.245223\n",
       "1           Bills   Platinum  180657.117168\n",
       "2           Bills  Signature  179599.262907\n",
       "3           Bills     Silver  174959.112444\n",
       "4   Entertainment       Gold  151765.934383\n",
       "5   Entertainment   Platinum  156367.934288\n",
       "6   Entertainment  Signature  152691.436752\n",
       "7   Entertainment     Silver  149533.561014\n",
       "8            Food       Gold  146563.127080\n",
       "9            Food   Platinum  153405.404814\n",
       "10           Food  Signature  155190.228743\n",
       "11           Food     Silver  148786.211659\n",
       "12           Fuel       Gold  147790.054753\n",
       "13           Fuel   Platinum  149054.808756\n",
       "14           Fuel  Signature  146032.260498\n",
       "15           Fuel     Silver  157256.315362\n",
       "16        Grocery       Gold  148567.339589\n",
       "17        Grocery   Platinum  151646.743363\n",
       "18        Grocery  Signature  152559.080882\n",
       "19        Grocery     Silver  151341.088993\n",
       "20         Travel       Gold  147122.150943\n",
       "21         Travel   Platinum  135495.491620\n",
       "22         Travel  Signature  153625.899441\n",
       "23         Travel     Silver  156624.916667"
      ]
     },
     "execution_count": 28,
     "metadata": {},
     "output_type": "execute_result"
    }
   ],
   "source": [
    "df.groupby(['Exp_Type','Card_Type'])['Amount'].mean().reset_index()"
   ]
  },
  {
   "cell_type": "code",
   "execution_count": 29,
   "id": "72392cf6-d99d-4004-be3d-748cd029a229",
   "metadata": {},
   "outputs": [
    {
     "data": {
      "text/html": [
       "<div>\n",
       "<style scoped>\n",
       "    .dataframe tbody tr th:only-of-type {\n",
       "        vertical-align: middle;\n",
       "    }\n",
       "\n",
       "    .dataframe tbody tr th {\n",
       "        vertical-align: top;\n",
       "    }\n",
       "\n",
       "    .dataframe thead th {\n",
       "        text-align: right;\n",
       "    }\n",
       "</style>\n",
       "<table border=\"1\" class=\"dataframe\">\n",
       "  <thead>\n",
       "    <tr style=\"text-align: right;\">\n",
       "      <th>Exp_Type</th>\n",
       "      <th>Bills</th>\n",
       "      <th>Entertainment</th>\n",
       "      <th>Food</th>\n",
       "      <th>Fuel</th>\n",
       "      <th>Grocery</th>\n",
       "      <th>Travel</th>\n",
       "    </tr>\n",
       "    <tr>\n",
       "      <th>Card_Type</th>\n",
       "      <th></th>\n",
       "      <th></th>\n",
       "      <th></th>\n",
       "      <th></th>\n",
       "      <th></th>\n",
       "      <th></th>\n",
       "    </tr>\n",
       "  </thead>\n",
       "  <tbody>\n",
       "    <tr>\n",
       "      <th>Gold</th>\n",
       "      <td>1256</td>\n",
       "      <td>1143</td>\n",
       "      <td>1322</td>\n",
       "      <td>1315</td>\n",
       "      <td>1119</td>\n",
       "      <td>212</td>\n",
       "    </tr>\n",
       "    <tr>\n",
       "      <th>Platinum</th>\n",
       "      <td>1229</td>\n",
       "      <td>1187</td>\n",
       "      <td>1371</td>\n",
       "      <td>1302</td>\n",
       "      <td>1130</td>\n",
       "      <td>179</td>\n",
       "    </tr>\n",
       "    <tr>\n",
       "      <th>Signature</th>\n",
       "      <td>1259</td>\n",
       "      <td>1170</td>\n",
       "      <td>1329</td>\n",
       "      <td>1286</td>\n",
       "      <td>1224</td>\n",
       "      <td>179</td>\n",
       "    </tr>\n",
       "    <tr>\n",
       "      <th>Silver</th>\n",
       "      <td>1334</td>\n",
       "      <td>1262</td>\n",
       "      <td>1441</td>\n",
       "      <td>1354</td>\n",
       "      <td>1281</td>\n",
       "      <td>168</td>\n",
       "    </tr>\n",
       "  </tbody>\n",
       "</table>\n",
       "</div>"
      ],
      "text/plain": [
       "Exp_Type   Bills  Entertainment  Food  Fuel  Grocery  Travel\n",
       "Card_Type                                                   \n",
       "Gold        1256           1143  1322  1315     1119     212\n",
       "Platinum    1229           1187  1371  1302     1130     179\n",
       "Signature   1259           1170  1329  1286     1224     179\n",
       "Silver      1334           1262  1441  1354     1281     168"
      ]
     },
     "execution_count": 29,
     "metadata": {},
     "output_type": "execute_result"
    }
   ],
   "source": [
    "pd.crosstab(df['Card_Type'],df['Exp_Type'])"
   ]
  },
  {
   "cell_type": "code",
   "execution_count": 30,
   "id": "8afea9e4-33a9-4f9f-a2be-5c8c1fd0bde2",
   "metadata": {},
   "outputs": [
    {
     "data": {
      "text/html": [
       "<div>\n",
       "<style scoped>\n",
       "    .dataframe tbody tr th:only-of-type {\n",
       "        vertical-align: middle;\n",
       "    }\n",
       "\n",
       "    .dataframe tbody tr th {\n",
       "        vertical-align: top;\n",
       "    }\n",
       "\n",
       "    .dataframe thead th {\n",
       "        text-align: right;\n",
       "    }\n",
       "</style>\n",
       "<table border=\"1\" class=\"dataframe\">\n",
       "  <thead>\n",
       "    <tr style=\"text-align: right;\">\n",
       "      <th></th>\n",
       "      <th>index</th>\n",
       "      <th>Amount</th>\n",
       "      <th>Year</th>\n",
       "      <th>Month</th>\n",
       "    </tr>\n",
       "  </thead>\n",
       "  <tbody>\n",
       "    <tr>\n",
       "      <th>index</th>\n",
       "      <td>1.000000</td>\n",
       "      <td>-0.106806</td>\n",
       "      <td>-0.006092</td>\n",
       "      <td>0.002670</td>\n",
       "    </tr>\n",
       "    <tr>\n",
       "      <th>Amount</th>\n",
       "      <td>-0.106806</td>\n",
       "      <td>1.000000</td>\n",
       "      <td>0.009809</td>\n",
       "      <td>-0.010555</td>\n",
       "    </tr>\n",
       "    <tr>\n",
       "      <th>Year</th>\n",
       "      <td>-0.006092</td>\n",
       "      <td>0.009809</td>\n",
       "      <td>1.000000</td>\n",
       "      <td>-0.662265</td>\n",
       "    </tr>\n",
       "    <tr>\n",
       "      <th>Month</th>\n",
       "      <td>0.002670</td>\n",
       "      <td>-0.010555</td>\n",
       "      <td>-0.662265</td>\n",
       "      <td>1.000000</td>\n",
       "    </tr>\n",
       "  </tbody>\n",
       "</table>\n",
       "</div>"
      ],
      "text/plain": [
       "           index    Amount      Year     Month\n",
       "index   1.000000 -0.106806 -0.006092  0.002670\n",
       "Amount -0.106806  1.000000  0.009809 -0.010555\n",
       "Year   -0.006092  0.009809  1.000000 -0.662265\n",
       "Month   0.002670 -0.010555 -0.662265  1.000000"
      ]
     },
     "execution_count": 30,
     "metadata": {},
     "output_type": "execute_result"
    }
   ],
   "source": [
    "df.corr(numeric_only=True)"
   ]
  },
  {
   "cell_type": "code",
   "execution_count": 31,
   "id": "438925f9-b00d-4364-9eea-355daaf48d08",
   "metadata": {},
   "outputs": [
    {
     "data": {
      "text/plain": [
       "Card_Type\n",
       "Silver       6840\n",
       "Signature    6447\n",
       "Platinum     6398\n",
       "Gold         6367\n",
       "Name: count, dtype: int64"
      ]
     },
     "execution_count": 31,
     "metadata": {},
     "output_type": "execute_result"
    }
   ],
   "source": [
    "df['Card_Type'].value_counts()"
   ]
  },
  {
   "cell_type": "code",
   "execution_count": 32,
   "id": "804acc97-ce8e-4e85-848e-69f388262b21",
   "metadata": {},
   "outputs": [
    {
     "data": {
      "image/png": "[encoded data removed]",
      "text/plain": [
       "<Figure size 640x480 with 1 Axes>"
      ]
     },
     "metadata": {},
     "output_type": "display_data"
    }
   ],
   "source": [
    "sb.countplot(x=df.Card_Type)\n",
    "plt.xticks(rotation=90)\n",
    "plt.show()"
   ]
  },
  {
   "cell_type": "markdown",
   "id": "4daf1071-7d12-481d-9c13-b778fe3ee0cb",
   "metadata": {},
   "source": [
    "4.Spending Patterns By Demographics"
   ]
  },
  {
   "cell_type": "code",
   "execution_count": 33,
   "id": "f2d112c7-1bbb-4bb0-abad-e015d1758b07",
   "metadata": {},
   "outputs": [
    {
     "data": {
      "text/plain": [
       "Gender\n",
       "F    161206.946637\n",
       "M    151109.145086\n",
       "Name: Amount, dtype: float64"
      ]
     },
     "execution_count": 33,
     "metadata": {},
     "output_type": "execute_result"
    }
   ],
   "source": [
    "df.groupby('Gender')['Amount'].mean()"
   ]
  },
  {
   "cell_type": "code",
   "execution_count": 34,
   "id": "714ce476-5f52-42b5-9fb7-11d82c3c68c5",
   "metadata": {},
   "outputs": [
    {
     "data": {
      "text/plain": [
       "Exp_Type       Gender\n",
       "Bills          F         202809.604545\n",
       "               M         147446.800721\n",
       "Entertainment  F         150446.028943\n",
       "               M         154656.939865\n",
       "Food           F         150337.742032\n",
       "               M         151736.731946\n",
       "Fuel           F         149897.753535\n",
       "               M         150323.257576\n",
       "Grocery        F         150595.962932\n",
       "               M         151573.914445\n",
       "Travel         F         147402.453826\n",
       "               M         148718.888579\n",
       "Name: Amount, dtype: float64"
      ]
     },
     "execution_count": 34,
     "metadata": {},
     "output_type": "execute_result"
    }
   ],
   "source": [
    "df.groupby(['Exp_Type','Gender'])['Amount'].mean()"
   ]
  },
  {
   "cell_type": "code",
   "execution_count": 35,
   "id": "ac4610ca-e69e-4482-9320-0b1c2cce85b8",
   "metadata": {},
   "outputs": [
    {
     "data": {
      "image/png": "[encoded data removed]",
      "text/plain": [
       "<Figure size 640x480 with 1 Axes>"
      ]
     },
     "metadata": {},
     "output_type": "display_data"
    }
   ],
   "source": [
    "sb.countplot(x=df.Exp_Type)\n",
    "plt.show()"
   ]
  },
  {
   "cell_type": "markdown",
   "id": "a65991d3-6640-470f-8dd6-e46511e01030",
   "metadata": {},
   "source": [
    "5.Anomaly Detection & Outliers"
   ]
  },
  {
   "cell_type": "code",
   "execution_count": 36,
   "id": "588cf8da-6557-4841-b8d9-c49b6f9880af",
   "metadata": {},
   "outputs": [
    {
     "data": {
      "text/plain": [
       "City\n",
       "Bengaluru, India         3552\n",
       "Greater Mumbai, India    3493\n",
       "Ahmedabad, India         3491\n",
       "Delhi, India             3482\n",
       "Hyderabad, India          784\n",
       "Chennai, India            774\n",
       "Kolkata, India            773\n",
       "Kanpur, India             764\n",
       "Lucknow, India            759\n",
       "Jaipur, India             752\n",
       "Name: count, dtype: int64"
      ]
     },
     "execution_count": 36,
     "metadata": {},
     "output_type": "execute_result"
    }
   ],
   "source": [
    "df['City'].value_counts().nlargest(10)"
   ]
  },
  {
   "cell_type": "code",
   "execution_count": 37,
   "id": "d70d423f-f9c4-47f6-ba63-ee0db5b758c7",
   "metadata": {},
   "outputs": [],
   "source": [
    "df['City']=df['City'].astype(str)"
   ]
  },
  {
   "cell_type": "code",
   "execution_count": 42,
   "id": "c20f2990-b3f6-4f51-bbf9-05a70d746c1f",
   "metadata": {},
   "outputs": [
    {
     "data": {
      "text/plain": [
       "Date\n",
       "2013-10-04    9738755\n",
       "2013-10-05    8062632\n",
       "2013-10-06    6990055\n",
       "2013-10-07    7822992\n",
       "2013-10-08    5832533\n",
       "               ...   \n",
       "2015-05-22    6613863\n",
       "2015-05-23    6393798\n",
       "2015-05-24    7171912\n",
       "2015-05-25    5176669\n",
       "2015-05-26    7591837\n",
       "Name: Amount, Length: 600, dtype: int64"
      ]
     },
     "execution_count": 42,
     "metadata": {},
     "output_type": "execute_result"
    }
   ],
   "source": [
    "df.groupby('Date')['Amount'].sum()"
   ]
  },
  {
   "cell_type": "code",
   "execution_count": 48,
   "id": "8cd154f7-8e51-4d9d-b25d-a0137992912a",
   "metadata": {},
   "outputs": [
    {
     "data": {
      "text/plain": [
       "465601.300285343"
      ]
     },
     "execution_count": 48,
     "metadata": {},
     "output_type": "execute_result"
    }
   ],
   "source": [
    "a=df['Amount'].mean()+3*df['Amount'].std()\n",
    "a"
   ]
  },
  {
   "cell_type": "code",
   "execution_count": 49,
   "id": "5d65e17a-4093-4e59-adfc-4495131940c0",
   "metadata": {},
   "outputs": [
    {
     "data": {
      "text/html": [
       "<div>\n",
       "<style scoped>\n",
       "    .dataframe tbody tr th:only-of-type {\n",
       "        vertical-align: middle;\n",
       "    }\n",
       "\n",
       "    .dataframe tbody tr th {\n",
       "        vertical-align: top;\n",
       "    }\n",
       "\n",
       "    .dataframe thead th {\n",
       "        text-align: right;\n",
       "    }\n",
       "</style>\n",
       "<table border=\"1\" class=\"dataframe\">\n",
       "  <thead>\n",
       "    <tr style=\"text-align: right;\">\n",
       "      <th></th>\n",
       "      <th>index</th>\n",
       "      <th>City</th>\n",
       "      <th>Date</th>\n",
       "      <th>Card_Type</th>\n",
       "      <th>Exp_Type</th>\n",
       "      <th>Gender</th>\n",
       "      <th>Amount</th>\n",
       "      <th>Year</th>\n",
       "      <th>Month</th>\n",
       "    </tr>\n",
       "  </thead>\n",
       "  <tbody>\n",
       "    <tr>\n",
       "      <th>15</th>\n",
       "      <td>15</td>\n",
       "      <td>Greater Mumbai, India</td>\n",
       "      <td>2014-11-28</td>\n",
       "      <td>Platinum</td>\n",
       "      <td>Bills</td>\n",
       "      <td>F</td>\n",
       "      <td>647116</td>\n",
       "      <td>2014</td>\n",
       "      <td>11</td>\n",
       "    </tr>\n",
       "    <tr>\n",
       "      <th>17</th>\n",
       "      <td>17</td>\n",
       "      <td>Greater Mumbai, India</td>\n",
       "      <td>2015-03-30</td>\n",
       "      <td>Gold</td>\n",
       "      <td>Bills</td>\n",
       "      <td>F</td>\n",
       "      <td>986379</td>\n",
       "      <td>2015</td>\n",
       "      <td>3</td>\n",
       "    </tr>\n",
       "    <tr>\n",
       "      <th>19</th>\n",
       "      <td>19</td>\n",
       "      <td>Greater Mumbai, India</td>\n",
       "      <td>2013-11-09</td>\n",
       "      <td>Platinum</td>\n",
       "      <td>Bills</td>\n",
       "      <td>F</td>\n",
       "      <td>735566</td>\n",
       "      <td>2013</td>\n",
       "      <td>11</td>\n",
       "    </tr>\n",
       "    <tr>\n",
       "      <th>21</th>\n",
       "      <td>21</td>\n",
       "      <td>Delhi, India</td>\n",
       "      <td>2014-07-01</td>\n",
       "      <td>Signature</td>\n",
       "      <td>Bills</td>\n",
       "      <td>F</td>\n",
       "      <td>809623</td>\n",
       "      <td>2014</td>\n",
       "      <td>7</td>\n",
       "    </tr>\n",
       "    <tr>\n",
       "      <th>22</th>\n",
       "      <td>22</td>\n",
       "      <td>Greater Mumbai, India</td>\n",
       "      <td>2015-03-27</td>\n",
       "      <td>Silver</td>\n",
       "      <td>Bills</td>\n",
       "      <td>F</td>\n",
       "      <td>467014</td>\n",
       "      <td>2015</td>\n",
       "      <td>3</td>\n",
       "    </tr>\n",
       "    <tr>\n",
       "      <th>...</th>\n",
       "      <td>...</td>\n",
       "      <td>...</td>\n",
       "      <td>...</td>\n",
       "      <td>...</td>\n",
       "      <td>...</td>\n",
       "      <td>...</td>\n",
       "      <td>...</td>\n",
       "      <td>...</td>\n",
       "      <td>...</td>\n",
       "    </tr>\n",
       "    <tr>\n",
       "      <th>344</th>\n",
       "      <td>344</td>\n",
       "      <td>Ahmedabad, India</td>\n",
       "      <td>2013-12-07</td>\n",
       "      <td>Platinum</td>\n",
       "      <td>Bills</td>\n",
       "      <td>F</td>\n",
       "      <td>515263</td>\n",
       "      <td>2013</td>\n",
       "      <td>12</td>\n",
       "    </tr>\n",
       "    <tr>\n",
       "      <th>346</th>\n",
       "      <td>346</td>\n",
       "      <td>Ahmedabad, India</td>\n",
       "      <td>2014-06-16</td>\n",
       "      <td>Silver</td>\n",
       "      <td>Bills</td>\n",
       "      <td>F</td>\n",
       "      <td>934683</td>\n",
       "      <td>2014</td>\n",
       "      <td>6</td>\n",
       "    </tr>\n",
       "    <tr>\n",
       "      <th>348</th>\n",
       "      <td>348</td>\n",
       "      <td>Greater Mumbai, India</td>\n",
       "      <td>2015-01-28</td>\n",
       "      <td>Gold</td>\n",
       "      <td>Bills</td>\n",
       "      <td>F</td>\n",
       "      <td>654519</td>\n",
       "      <td>2015</td>\n",
       "      <td>1</td>\n",
       "    </tr>\n",
       "    <tr>\n",
       "      <th>349</th>\n",
       "      <td>349</td>\n",
       "      <td>Ahmedabad, India</td>\n",
       "      <td>2014-06-12</td>\n",
       "      <td>Gold</td>\n",
       "      <td>Bills</td>\n",
       "      <td>F</td>\n",
       "      <td>958047</td>\n",
       "      <td>2014</td>\n",
       "      <td>6</td>\n",
       "    </tr>\n",
       "    <tr>\n",
       "      <th>351</th>\n",
       "      <td>351</td>\n",
       "      <td>Ahmedabad, India</td>\n",
       "      <td>2013-12-31</td>\n",
       "      <td>Signature</td>\n",
       "      <td>Bills</td>\n",
       "      <td>F</td>\n",
       "      <td>653161</td>\n",
       "      <td>2013</td>\n",
       "      <td>12</td>\n",
       "    </tr>\n",
       "  </tbody>\n",
       "</table>\n",
       "<p>224 rows × 9 columns</p>\n",
       "</div>"
      ],
      "text/plain": [
       "     index                   City       Date  Card_Type Exp_Type Gender  \\\n",
       "15      15  Greater Mumbai, India 2014-11-28   Platinum    Bills      F   \n",
       "17      17  Greater Mumbai, India 2015-03-30       Gold    Bills      F   \n",
       "19      19  Greater Mumbai, India 2013-11-09   Platinum    Bills      F   \n",
       "21      21           Delhi, India 2014-07-01  Signature    Bills      F   \n",
       "22      22  Greater Mumbai, India 2015-03-27     Silver    Bills      F   \n",
       "..     ...                    ...        ...        ...      ...    ...   \n",
       "344    344       Ahmedabad, India 2013-12-07   Platinum    Bills      F   \n",
       "346    346       Ahmedabad, India 2014-06-16     Silver    Bills      F   \n",
       "348    348  Greater Mumbai, India 2015-01-28       Gold    Bills      F   \n",
       "349    349       Ahmedabad, India 2014-06-12       Gold    Bills      F   \n",
       "351    351       Ahmedabad, India 2013-12-31  Signature    Bills      F   \n",
       "\n",
       "     Amount  Year  Month  \n",
       "15   647116  2014     11  \n",
       "17   986379  2015      3  \n",
       "19   735566  2013     11  \n",
       "21   809623  2014      7  \n",
       "22   467014  2015      3  \n",
       "..      ...   ...    ...  \n",
       "344  515263  2013     12  \n",
       "346  934683  2014      6  \n",
       "348  654519  2015      1  \n",
       "349  958047  2014      6  \n",
       "351  653161  2013     12  \n",
       "\n",
       "[224 rows x 9 columns]"
      ]
     },
     "execution_count": 49,
     "metadata": {},
     "output_type": "execute_result"
    }
   ],
   "source": [
    "df[df['Amount'] > a]"
   ]
  },
  {
   "cell_type": "code",
   "execution_count": 43,
   "id": "f93631e9-eda4-4a35-9e33-345f4f729f83",
   "metadata": {},
   "outputs": [
    {
     "data": {
      "text/plain": [
       "Exp_Type\n",
       "Bills            178627.899370\n",
       "Entertainment    152548.831583\n",
       "Grocery          151074.447413\n",
       "Food             150965.405272\n",
       "Fuel             150111.436371\n",
       "Travel           148042.833333\n",
       "Name: Amount, dtype: float64"
      ]
     },
     "execution_count": 43,
     "metadata": {},
     "output_type": "execute_result"
    }
   ],
   "source": [
    "df.groupby('Exp_Type')['Amount'].mean().sort_values(ascending=False)"
   ]
  },
  {
   "cell_type": "code",
   "execution_count": 44,
   "id": "d7c3451b-605b-4ec0-80af-331d53a7e8d9",
   "metadata": {},
   "outputs": [
    {
     "data": {
      "text/html": [
       "<div>\n",
       "<style scoped>\n",
       "    .dataframe tbody tr th:only-of-type {\n",
       "        vertical-align: middle;\n",
       "    }\n",
       "\n",
       "    .dataframe tbody tr th {\n",
       "        vertical-align: top;\n",
       "    }\n",
       "\n",
       "    .dataframe thead th {\n",
       "        text-align: right;\n",
       "    }\n",
       "</style>\n",
       "<table border=\"1\" class=\"dataframe\">\n",
       "  <thead>\n",
       "    <tr style=\"text-align: right;\">\n",
       "      <th>Card_Type</th>\n",
       "      <th>Gold</th>\n",
       "      <th>Platinum</th>\n",
       "      <th>Signature</th>\n",
       "      <th>Silver</th>\n",
       "    </tr>\n",
       "    <tr>\n",
       "      <th>Exp_Type</th>\n",
       "      <th></th>\n",
       "      <th></th>\n",
       "      <th></th>\n",
       "      <th></th>\n",
       "    </tr>\n",
       "  </thead>\n",
       "  <tbody>\n",
       "    <tr>\n",
       "      <th>Bills</th>\n",
       "      <td>1256</td>\n",
       "      <td>1229</td>\n",
       "      <td>1259</td>\n",
       "      <td>1334</td>\n",
       "    </tr>\n",
       "    <tr>\n",
       "      <th>Entertainment</th>\n",
       "      <td>1143</td>\n",
       "      <td>1187</td>\n",
       "      <td>1170</td>\n",
       "      <td>1262</td>\n",
       "    </tr>\n",
       "    <tr>\n",
       "      <th>Food</th>\n",
       "      <td>1322</td>\n",
       "      <td>1371</td>\n",
       "      <td>1329</td>\n",
       "      <td>1441</td>\n",
       "    </tr>\n",
       "    <tr>\n",
       "      <th>Fuel</th>\n",
       "      <td>1315</td>\n",
       "      <td>1302</td>\n",
       "      <td>1286</td>\n",
       "      <td>1354</td>\n",
       "    </tr>\n",
       "    <tr>\n",
       "      <th>Grocery</th>\n",
       "      <td>1119</td>\n",
       "      <td>1130</td>\n",
       "      <td>1224</td>\n",
       "      <td>1281</td>\n",
       "    </tr>\n",
       "    <tr>\n",
       "      <th>Travel</th>\n",
       "      <td>212</td>\n",
       "      <td>179</td>\n",
       "      <td>179</td>\n",
       "      <td>168</td>\n",
       "    </tr>\n",
       "  </tbody>\n",
       "</table>\n",
       "</div>"
      ],
      "text/plain": [
       "Card_Type      Gold  Platinum  Signature  Silver\n",
       "Exp_Type                                        \n",
       "Bills          1256      1229       1259    1334\n",
       "Entertainment  1143      1187       1170    1262\n",
       "Food           1322      1371       1329    1441\n",
       "Fuel           1315      1302       1286    1354\n",
       "Grocery        1119      1130       1224    1281\n",
       "Travel          212       179        179     168"
      ]
     },
     "execution_count": 44,
     "metadata": {},
     "output_type": "execute_result"
    }
   ],
   "source": [
    "pd.crosstab(df['Exp_Type'],df['Card_Type'])"
   ]
  }
 ],
 "metadata": {
  "kernelspec": {
   "display_name": "Python 3 (ipykernel)",
   "language": "python",
   "name": "python3"
  },
  "language_info": {
   "codemirror_mode": {
    "name": "ipython",
    "version": 3
   },
   "file_extension": ".py",
   "mimetype": "text/x-python",
   "name": "python",
   "nbconvert_exporter": "python",
   "pygments_lexer": "ipython3",
   "version": "3.12.7"
  }
 },
 "nbformat": 4,
 "nbformat_minor": 5
}
